{
  "nbformat": 4,
  "nbformat_minor": 0,
  "metadata": {
    "colab": {
      "provenance": [],
      "toc_visible": true,
      "authorship_tag": "ABX9TyP6Ysct4ojzrzPGcr0p52Yj",
      "include_colab_link": true
    },
    "kernelspec": {
      "name": "python3",
      "display_name": "Python 3"
    },
    "language_info": {
      "name": "python"
    }
  },
  "cells": [
    {
      "cell_type": "markdown",
      "metadata": {
        "id": "view-in-github",
        "colab_type": "text"
      },
      "source": [
        "<a href=\"https://colab.research.google.com/github/coregvy/AiClient/blob/master/con4_test.ipynb\" target=\"_parent\"><img src=\"https://colab.research.google.com/assets/colab-badge.svg\" alt=\"Open In Colab\"/></a>"
      ]
    },
    {
      "cell_type": "markdown",
      "source": [
        "# コネクトフォー の ゲームAIを作ろう"
      ],
      "metadata": {
        "id": "d1QRBFQZpK1J"
      }
    },
    {
      "cell_type": "markdown",
      "source": [
        "## AIの準備"
      ],
      "metadata": {
        "id": "A-1Be_bkrYOi"
      }
    },
    {
      "cell_type": "markdown",
      "source": [
        "### tensorflow 1.x インストール\n",
        "tensorflow 1系はColabで使えなくなったので、強制的にインストールする\\\n",
        "参考：https://qiita.com/katoyu_try1/items/0228870c41d9ac54e6e9\n",
        "\n",
        "（例外的な処理なので、Colabで使えなくなったらゴメンネ）\\\n",
        "将来的には Stable Baselines3に対応するよう改修予定"
      ],
      "metadata": {
        "id": "9wgTmOfB3vjx"
      }
    },
    {
      "cell_type": "code",
      "source": [
        "!pip uninstall -y tensorflow tensorflow-gpu tensorboard tensorflow-estimator\n",
        "!pip install tensorflow-gpu==1.15.2 --quiet"
      ],
      "metadata": {
        "id": "HWf9pg-P1z16"
      },
      "execution_count": null,
      "outputs": []
    },
    {
      "cell_type": "markdown",
      "source": [
        "### ライブラリのインストール\n",
        "\n",
        "MPIは並列処理のライブラリです。"
      ],
      "metadata": {
        "id": "gZUwAa-iHdU0"
      }
    },
    {
      "cell_type": "code",
      "source": [
        "!pip install gym==0.19.0 tensorflow==1.15 stable-baselines --quiet\n",
        "# !pip install stable-baselines[mpi] --quiet"
      ],
      "metadata": {
        "id": "Wp4S_sOXrbE3"
      },
      "execution_count": null,
      "outputs": []
    },
    {
      "cell_type": "markdown",
      "source": [
        "## ゲームAIの開発\n",
        "\n",
        "[StableBaselines](https://stable-baselines.readthedocs.io/en/master/index.html) / [OpenAI Gym](https://github.com/openai/gym) を使用して機械学習AIを開発します。"
      ],
      "metadata": {
        "id": "H8xdTSHH4ldN"
      }
    },
    {
      "cell_type": "markdown",
      "source": [
        "### Dependencis"
      ],
      "metadata": {
        "id": "ptPdicx80mQp"
      }
    },
    {
      "cell_type": "code",
      "source": [
        "#!python3.7\n",
        "import tensorflow as tf;\n",
        "import re\n",
        "import random\n",
        "import gym\n",
        "import numpy as np\n",
        "\n",
        "from stable_baselines import PPO2\n",
        "from stable_baselines.common.policies import MlpPolicy\n",
        "\n",
        "import warnings\n",
        "\n",
        "# https://stackoverflow.com/questions/15777951/how-to-suppress-pandas-future-warning\n",
        "warnings.simplefilter(action='ignore', category=FutureWarning)\n",
        "warnings.simplefilter(action='ignore', category=Warning)\n",
        "\n",
        "tf.get_logger().setLevel('INFO')\n",
        "tf.autograph.set_verbosity(0)\n",
        "import logging\n",
        "tf.get_logger().setLevel(logging.ERROR)"
      ],
      "metadata": {
        "id": "ehC5E4hA4omM"
      },
      "execution_count": null,
      "outputs": []
    },
    {
      "cell_type": "markdown",
      "source": [
        "+ tensorflow のインストール確認"
      ],
      "metadata": {
        "id": "Zb5hdJvM2Y-C"
      }
    },
    {
      "cell_type": "code",
      "source": [
        "print(tf.reduce_sum(tf.random.normal([1000, 1000])))"
      ],
      "metadata": {
        "id": "8DJVEXra1X0i"
      },
      "execution_count": null,
      "outputs": []
    },
    {
      "cell_type": "markdown",
      "source": [
        "### game_util.py\n",
        "\n",
        "コネクトフォー独自のルールやロジックなど"
      ],
      "metadata": {
        "id": "jg8OYVmusXFl"
      }
    },
    {
      "cell_type": "code",
      "source": [
        "\n",
        "class GameUtil:\n",
        "  @staticmethod\n",
        "  def stdinToState(stdin, blank='0', my='1', your='2'):\n",
        "    ao = stdin.splitlines()\n",
        "    meta = ao.pop(0).split(' ')\n",
        "    return list(map(lambda x: list(re.sub('[^MB]', 'Y', x.replace('.', 'B').replace(meta[2], 'M')).replace('Y', your).replace('B', blank).replace('M', my)), ao))\n",
        "\n",
        "  def listToState(ao, meta, blank='0', my='1', your='2'):\n",
        "    for row in range(int(meta[1])):\n",
        "      for col in range(int(meta[0])):\n",
        "        if ao[row][col] == '.':\n",
        "          ao[row][col] = blank\n",
        "        elif ao[row][col] == meta[2]:\n",
        "          ao[row][col] = my\n",
        "        else:\n",
        "          ao[row][col] = your\n",
        "    return ao\n",
        "\n",
        "  @staticmethod\n",
        "  def resetState(row, col):\n",
        "    return [['0'] * col for i in range(row)]\n",
        "\n",
        "  @staticmethod\n",
        "  def fallCoin(state, action, mark='1', blank='0'):\n",
        "    \"\"\" Return new state\n",
        "\n",
        "    Args:\n",
        "        state (list[list[str]]): state list\n",
        "        action (str): [description]\n",
        "        mark (str, optional): [description]. Defaults to '1'.\n",
        "        blank (str, optional): [description]. Defaults to '0'.\n",
        "\n",
        "    Returns:\n",
        "        list: new state\n",
        "    \"\"\"\n",
        "    fallNg = True\n",
        "    for ry in range(len(state)):\n",
        "      y = len(state) - ry - 1\n",
        "      if state[y][action] == blank:\n",
        "        state[y][action] = mark\n",
        "        fallNg = False\n",
        "        break\n",
        "    return state, fallNg\n",
        "\n",
        "  @staticmethod\n",
        "  def checkEnd(state, goal=4, blank='0'):\n",
        "    \"\"\" Check if the game is finished\n",
        "\n",
        "    Args:\n",
        "        state (list[list[str]]): game state list\n",
        "        goal (int, optional): goal count. Defaults to 4.\n",
        "        blank (str, optional): blank mark. Defaults to '0'.\n",
        "\n",
        "    Returns:\n",
        "        str: Win mark or blank\n",
        "    \"\"\"\n",
        "    # GameUtil.render(state)\n",
        "    # check row\n",
        "    for row in range(len(state)):\n",
        "      for col in range(len(state[row]) - goal + 1):\n",
        "        tmpMark = state[row][col]\n",
        "        if tmpMark == blank:\n",
        "          continue\n",
        "        # print('---1:', row, col, tmpMark)\n",
        "        for p in range(goal - 1):\n",
        "          # print('---3:', row, col + p + 1, state[row][col + p + 1])\n",
        "          if tmpMark != state[row][col + p + 1]:\n",
        "            tmpMark = blank\n",
        "            break\n",
        "        \n",
        "        # print('---2:', row, col, tmpMark)\n",
        "        if tmpMark != blank:\n",
        "          return tmpMark\n",
        "\n",
        "    # check col\n",
        "    for col in range(len(state[0])):\n",
        "      for row in range(len(state) - goal + 1):\n",
        "        tmpMark = state[row][col]\n",
        "        if tmpMark == blank:\n",
        "          continue\n",
        "        # print('|||1', row, col, tmpMark)\n",
        "        for p in range(goal - 1):\n",
        "          # print('|||2:', row+p+1, col, tmpMark)\n",
        "          if tmpMark != state[row + p + 1][col]:\n",
        "            tmpMark = blank\n",
        "            break\n",
        "\n",
        "        if tmpMark != blank:\n",
        "          return tmpMark\n",
        "\n",
        "    # check /\n",
        "    for row in range(goal - 1, len(state)):\n",
        "      for col in range(0, len(state[row]) - goal + 1):\n",
        "        tmp = state[row][col]\n",
        "        # print('/', row, col, tmp)\n",
        "        if tmp == blank:\n",
        "          continue\n",
        "        for r in range(1, goal):\n",
        "          # print('//', row, col, tmp, r)\n",
        "          if tmp != state[row - r][col + r]:\n",
        "            tmp = blank\n",
        "            break\n",
        "        if tmp != blank:\n",
        "          return tmp\n",
        "\n",
        "    # check \\\n",
        "    for row in range(len(state) - goal + 1):\n",
        "      for col in range(len(state[row]) - goal + 1):\n",
        "        tmp = state[row][col]\n",
        "        # print('\\\\', row, col, tmp)\n",
        "        if tmp == blank:\n",
        "          continue\n",
        "        for r in range(1, goal):\n",
        "          if tmp != state[row + r][col + r]:\n",
        "            tmp = blank\n",
        "            break\n",
        "        if tmp != blank:\n",
        "          return tmp\n",
        "\n",
        "    return blank\n",
        "\n",
        "  @staticmethod\n",
        "  def render(state, my = '1', blank = '0'):\n",
        "    print('-0-1-2-3-4-5-6-')\n",
        "    for i in range(len(state)):\n",
        "      print(' ', end='')\n",
        "      for j in range(len(state[i])):\n",
        "        mark = '☆'\n",
        "        if state[i][j] == my:\n",
        "          mark = '◆'\n",
        "        elif state[i][j] == blank:\n",
        "          mark = '・'\n",
        "        print(mark, end='')\n",
        "      print()\n",
        "    print('--------------')\n",
        "\n",
        "  @staticmethod\n",
        "  def enemyPlay(state):\n",
        "    # todo\n",
        "    pos = random.randrange(7)\n",
        "    if state[0][pos] == '0':\n",
        "      return pos\n",
        "    else:\n",
        "      return GameUtil.enemyPlay(state)"
      ],
      "metadata": {
        "id": "kRalBw_JrcXR"
      },
      "execution_count": null,
      "outputs": []
    },
    {
      "cell_type": "markdown",
      "source": [
        "### environment.py\n",
        "\n",
        "StableBaselines の環境クラス"
      ],
      "metadata": {
        "id": "zYwEWmYjshwY"
      }
    },
    {
      "cell_type": "code",
      "source": [
        "\n",
        "class Con4(gym.Env):\n",
        "  MY_MARK = '1'\n",
        "  BLANK_MARK = '0'\n",
        "  MAX_ROW = 6\n",
        "  MAX_COL = 7\n",
        "\n",
        "  def __init__(self):\n",
        "    super(Con4, self).__init__()\n",
        "    self.board = GameUtil.resetState(self.MAX_ROW, self.MAX_COL)\n",
        "    self.action_space = gym.spaces.Discrete(self.MAX_COL)\n",
        "    self.observation_space = gym.spaces.Box(low=0, high=2, shape=(self.MAX_ROW, self.MAX_COL))\n",
        "\n",
        "  def reset(self):\n",
        "    self.board = GameUtil.resetState(self.MAX_ROW, self.MAX_COL)\n",
        "    return self.board\n",
        "\n",
        "  def step(self, action):\n",
        "    reward = 0\n",
        "    done = False\n",
        "    self.board, stepNg = GameUtil.fallCoin(self.board, action, self.MY_MARK, self.BLANK_MARK)\n",
        "    if stepNg:\n",
        "      # この列にコインをこれ以上落とせなかった\n",
        "      done = True\n",
        "      reward = -10000\n",
        "      return self.board, reward, done, {}\n",
        "    # 相手の行動を追加する\n",
        "    self.board, stepNg = GameUtil.fallCoin(self.board, GameUtil.enemyPlay(self.board), '2', self.BLANK_MARK)\n",
        "    win = GameUtil.checkEnd(self.board)\n",
        "    if win == self.MY_MARK:\n",
        "      # 自分が勝った\n",
        "      done = True\n",
        "      reward = 1.0\n",
        "    elif win != self.BLANK_MARK:\n",
        "      # 相手が勝った\n",
        "      done = True\n",
        "      reward = -1\n",
        "    return self.board, reward, done, {}\n",
        "\n",
        "  def render(self, mode='console', close=False):\n",
        "    GameUtil.render(self.board, self.MY_MARK, self.BLANK_MARK)\n",
        "\n",
        "  def initState(self):\n",
        "    \"\"\" 盤面を初期化する\n",
        "\n",
        "    Returns:\n",
        "        list: 初期化された盤面の2次元配列\n",
        "    \"\"\"\n",
        "    return [[self.BLANK_MARK] * self.MAX_COL for i in range(self.MAX_ROW)]"
      ],
      "metadata": {
        "id": "za-bTKj-sjpY"
      },
      "execution_count": null,
      "outputs": []
    },
    {
      "cell_type": "markdown",
      "source": [
        "### training\n",
        "\n",
        "指定回数反復学習し、結果をモデルファイルとして保存する"
      ],
      "metadata": {
        "id": "U6cNp-NMsuBv"
      }
    },
    {
      "cell_type": "code",
      "source": [
        "#!python3.7\n",
        "env = Con4()\n",
        "\n",
        "# モデルの生成\n",
        "#  verbose：ログの詳細表示(0:ログなし、1:訓練情報を表示、2:TensorFlowログを表示)\n",
        "model = PPO2('MlpPolicy', env, verbose=0, tensorboard_log='./log')\n",
        "# model = PPO2(MlpPolicy, env, verbose=0)\n",
        "# モデルの学習\n",
        "sample = 20000\n",
        "model.learn(total_timesteps=sample)\n",
        "# モデルの保存\n",
        "model.save('con4_model_' + str(sample))\n",
        "\n",
        "print('training end')\n"
      ],
      "metadata": {
        "colab": {
          "base_uri": "https://localhost:8080/",
          "height": 240
        },
        "id": "2QmWXnhXsvJD",
        "outputId": "a4b2ec34-5708-443f-a522-0c574e750122"
      },
      "execution_count": 1,
      "outputs": [
        {
          "output_type": "error",
          "ename": "NameError",
          "evalue": "ignored",
          "traceback": [
            "\u001b[0;31m---------------------------------------------------------------------------\u001b[0m",
            "\u001b[0;31mNameError\u001b[0m                                 Traceback (most recent call last)",
            "\u001b[0;32m<ipython-input-1-0b64a044d494>\u001b[0m in \u001b[0;36m<module>\u001b[0;34m\u001b[0m\n\u001b[0;32m----> 1\u001b[0;31m \u001b[0menv\u001b[0m \u001b[0;34m=\u001b[0m \u001b[0mCon4\u001b[0m\u001b[0;34m(\u001b[0m\u001b[0;34m)\u001b[0m\u001b[0;34m\u001b[0m\u001b[0;34m\u001b[0m\u001b[0m\n\u001b[0m\u001b[1;32m      2\u001b[0m \u001b[0;34m\u001b[0m\u001b[0m\n\u001b[1;32m      3\u001b[0m \u001b[0;31m# モデルの生成\u001b[0m\u001b[0;34m\u001b[0m\u001b[0;34m\u001b[0m\u001b[0;34m\u001b[0m\u001b[0m\n\u001b[1;32m      4\u001b[0m \u001b[0;31m#  verbose：ログの詳細表示(0:ログなし、1:訓練情報を表示、2:TensorFlowログを表示)\u001b[0m\u001b[0;34m\u001b[0m\u001b[0;34m\u001b[0m\u001b[0;34m\u001b[0m\u001b[0m\n\u001b[1;32m      5\u001b[0m \u001b[0mmodel\u001b[0m \u001b[0;34m=\u001b[0m \u001b[0mPPO2\u001b[0m\u001b[0;34m(\u001b[0m\u001b[0;34m'MlpPolicy'\u001b[0m\u001b[0;34m,\u001b[0m \u001b[0menv\u001b[0m\u001b[0;34m,\u001b[0m \u001b[0mverbose\u001b[0m\u001b[0;34m=\u001b[0m\u001b[0;36m0\u001b[0m\u001b[0;34m,\u001b[0m \u001b[0mtensorboard_log\u001b[0m\u001b[0;34m=\u001b[0m\u001b[0;34m'./log'\u001b[0m\u001b[0;34m)\u001b[0m\u001b[0;34m\u001b[0m\u001b[0;34m\u001b[0m\u001b[0m\n",
            "\u001b[0;31mNameError\u001b[0m: name 'Con4' is not defined"
          ]
        }
      ]
    },
    {
      "cell_type": "markdown",
      "source": [
        "### 学習結果の確認\n",
        "\n",
        "Tensorboard を使用して、学習の様子を確認します。\\\n",
        "パラメータや報酬ロジックを変更した際には違いを確認し、より強いAIになるよう調整しましょう"
      ],
      "metadata": {
        "id": "CGRrZuqD0TIU"
      }
    },
    {
      "cell_type": "code",
      "source": [
        "%tensorboard --logdir=./log"
      ],
      "metadata": {
        "id": "volXgUE_0YCO"
      },
      "execution_count": null,
      "outputs": []
    },
    {
      "cell_type": "markdown",
      "source": [
        "## AIのテスト\n",
        "\n",
        "作ったAIが想定通りに動くか試してみましょう"
      ],
      "metadata": {
        "id": "2DKN-J9wuQst"
      }
    },
    {
      "cell_type": "code",
      "source": [
        "state = GameUtil.resetState(6, 7)\n",
        "i = 0\n",
        "\n",
        "while True:\n",
        "  i += 1\n",
        "  action, _ = model.predict(state)\n",
        "  state, done = GameUtil.fallCoin(state, action)\n",
        "  if done:\n",
        "    print('failed fall: ', action)\n",
        "    GameUtil.render(state)\n",
        "    break\n",
        "  done = GameUtil.checkEnd(state)\n",
        "  if done != '0':\n",
        "    print('end: ', i)\n",
        "    break\n",
        "\n",
        "  GameUtil.render(state)\n",
        "  if done != '0':\n",
        "    print('win ai: ', i)\n",
        "    break\n",
        "  print('AI action:', done, action)\n",
        "  action = input('input action > ')\n",
        "  state, done = GameUtil.fallCoin(state, int(action), mark = '2')\n",
        "  if done:\n",
        "    print('failed fall: ', action)\n",
        "    GameUtil.render(state)\n",
        "    break\n",
        "  done = GameUtil.checkEnd(state)\n",
        "  if done != '0':\n",
        "    print('win player: ', i)\n",
        "    break"
      ],
      "metadata": {
        "id": "akzVT9PyuTr_",
        "colab": {
          "base_uri": "https://localhost:8080/"
        },
        "outputId": "26c00ce1-221d-490a-a3c3-52aeaee79aec"
      },
      "execution_count": null,
      "outputs": [
        {
          "output_type": "stream",
          "name": "stdout",
          "text": [
            "-0-1-2-3-4-5-6-\n",
            " ・・・・・・・\n",
            " ・・・・・・・\n",
            " ・・・・・・・\n",
            " ・・・・・・・\n",
            " ・・・・・・・\n",
            " ・・・・◆・・\n",
            "--------------\n",
            "AI action: 0 4\n",
            "input action > 2\n",
            "-0-1-2-3-4-5-6-\n",
            " ・・・・・・・\n",
            " ・・・・・・・\n",
            " ・・・・・・・\n",
            " ・・・・・・・\n",
            " ・・・・・・・\n",
            " ・・☆・◆◆・\n",
            "--------------\n",
            "AI action: 0 5\n",
            "input action > 3\n",
            "-0-1-2-3-4-5-6-\n",
            " ・・・・・・・\n",
            " ・・・・・・・\n",
            " ・・・・・・・\n",
            " ・・・・・・・\n",
            " ・・・・・◆・\n",
            " ・・☆☆◆◆・\n",
            "--------------\n",
            "AI action: 0 5\n",
            "input action > 4\n",
            "-0-1-2-3-4-5-6-\n",
            " ・・・・・・・\n",
            " ・・・・・・・\n",
            " ・・・・・・・\n",
            " ・・・・・・・\n",
            " ・・・・☆◆・\n",
            " ◆・☆☆◆◆・\n",
            "--------------\n",
            "AI action: 0 0\n",
            "input action > 5\n",
            "-0-1-2-3-4-5-6-\n",
            " ・・・・・・・\n",
            " ・・・・・・・\n",
            " ・・・・・◆・\n",
            " ・・・・・☆・\n",
            " ・・・・☆◆・\n",
            " ◆・☆☆◆◆・\n",
            "--------------\n",
            "AI action: 0 5\n",
            "-0-1-2-3-4-5-6-\n",
            " ・・・・・・・\n",
            " ・・・・・☆・\n",
            " ・・・・・◆・\n",
            " ・・・・・☆・\n",
            " ・・・・☆◆・\n",
            " ◆◆☆☆◆◆・\n",
            "--------------\n",
            "AI action: 0 1\n",
            "input action > 4\n",
            "-0-1-2-3-4-5-6-\n",
            " ・・・・・・・\n",
            " ・・・・・☆・\n",
            " ・・・・・◆・\n",
            " ・・・・☆☆・\n",
            " ・・・・☆◆・\n",
            " ◆◆☆☆◆◆◆\n",
            "--------------\n",
            "AI action: 0 6\n",
            "input action > 4\n",
            "-0-1-2-3-4-5-6-\n",
            " ・・・・・・・\n",
            " ・・・・・☆・\n",
            " ・・・・☆◆・\n",
            " ・・・・☆☆・\n",
            " ・・・◆☆◆・\n",
            " ◆◆☆☆◆◆◆\n",
            "--------------\n",
            "AI action: 0 3\n",
            "input action > 4\n",
            "win player:  8\n"
          ]
        }
      ]
    },
    {
      "cell_type": "markdown",
      "source": [
        "## WebSocket準備\n",
        "\n",
        "ゲーム画面と連携するため、WebSocketの準備をします"
      ],
      "metadata": {
        "id": "gKTyeXdLpNl4"
      }
    },
    {
      "cell_type": "code",
      "source": [
        "!pip install websocket-client"
      ],
      "metadata": {
        "id": "9LOHYYgD1C80"
      },
      "execution_count": null,
      "outputs": []
    },
    {
      "cell_type": "code",
      "source": [
        "import websocket\n",
        "try:\n",
        "    import thread\n",
        "except ImportError:\n",
        "    import _thread as thread\n",
        "import time\n",
        "\n",
        "class Websocket_Client():\n",
        "\n",
        "    def __init__(self, host_addr):\n",
        "\n",
        "        # デバックログの表示/非表示設定\n",
        "        websocket.enableTrace(True)\n",
        "\n",
        "        # WebSocketAppクラスを生成\n",
        "        # 関数登録のために、ラムダ式を使用\n",
        "        self.ws = websocket.WebSocketApp(host_addr,\n",
        "            on_message = lambda ws, msg: self.on_message(ws, msg),\n",
        "            on_error   = lambda ws, msg: self.on_error(ws, msg),\n",
        "            on_close   = lambda ws: self.on_close(ws))\n",
        "        self.ws.on_open = lambda ws: self.on_open(ws)\n",
        "\n",
        "    # メッセージ受信に呼ばれる関数\n",
        "    def on_message(self, ws, message):\n",
        "        print(\"receive : {}\".format(message))\n",
        "\n",
        "    # エラー時に呼ばれる関数\n",
        "    def on_error(self, ws, error):\n",
        "        print(error)\n",
        "\n",
        "    # サーバーから切断時に呼ばれる関数\n",
        "    def on_close(self, ws):\n",
        "        print(\"### closed ###\")\n",
        "\n",
        "    # サーバーから接続時に呼ばれる関数\n",
        "    def on_open(self, ws):\n",
        "        thread.start_new_thread(self.run, ())\n",
        "\n",
        "    # サーバーから接続時にスレッドで起動する関数\n",
        "    def run(self, *args):\n",
        "        while True:\n",
        "            time.sleep(0.1)\n",
        "            input_data = input(\"send data:\") \n",
        "            self.ws.send(input_data)\n",
        "    \n",
        "        self.ws.close()\n",
        "        print(\"thread terminating...\")\n",
        "    \n",
        "    # websocketクライアント起動\n",
        "    def run_forever(self):\n",
        "        self.ws.run_forever()\n"
      ],
      "metadata": {
        "colab": {
          "base_uri": "https://localhost:8080/"
        },
        "id": "sGl8CYkNpbmB",
        "outputId": "4692d28f-48bb-4a89-f6c3-0cb96842fc93"
      },
      "execution_count": null,
      "outputs": [
        {
          "output_type": "stream",
          "name": "stderr",
          "text": [
            "--- request header ---\n",
            "DEBUG:websocket:--- request header ---\n",
            "GET /red/api/con4/demo-a HTTP/1.1\n",
            "Upgrade: websocket\n",
            "Host: www.tomiko.cf\n",
            "Origin: https://www.tomiko.cf\n",
            "Sec-WebSocket-Key: 5AIBn7nvgnFVL6fDhpSclw==\n",
            "Sec-WebSocket-Version: 13\n",
            "Connection: Upgrade\n",
            "\n",
            "\n",
            "DEBUG:websocket:GET /red/api/con4/demo-a HTTP/1.1\n",
            "Upgrade: websocket\n",
            "Host: www.tomiko.cf\n",
            "Origin: https://www.tomiko.cf\n",
            "Sec-WebSocket-Key: 5AIBn7nvgnFVL6fDhpSclw==\n",
            "Sec-WebSocket-Version: 13\n",
            "Connection: Upgrade\n",
            "\n",
            "\n",
            "-----------------------\n",
            "DEBUG:websocket:-----------------------\n",
            "--- response header ---\n",
            "DEBUG:websocket:--- response header ---\n",
            "HTTP/1.1 101 Switching Protocols\n",
            "DEBUG:websocket:HTTP/1.1 101 Switching Protocols\n",
            "Server: nginx\n",
            "DEBUG:websocket:Server: nginx\n",
            "Date: Wed, 07 Sep 2022 11:14:23 GMT\n",
            "DEBUG:websocket:Date: Wed, 07 Sep 2022 11:14:23 GMT\n",
            "Connection: upgrade\n",
            "DEBUG:websocket:Connection: upgrade\n",
            "Upgrade: websocket\n",
            "DEBUG:websocket:Upgrade: websocket\n",
            "Sec-WebSocket-Accept: XtyjjQ/ihcOtN3k4NGYBkPjHaJ4=\n",
            "DEBUG:websocket:Sec-WebSocket-Accept: XtyjjQ/ihcOtN3k4NGYBkPjHaJ4=\n",
            "-----------------------\n",
            "DEBUG:websocket:-----------------------\n",
            "websocket connected\n",
            "WARNING:websocket:websocket connected\n"
          ]
        },
        {
          "name": "stdout",
          "output_type": "stream",
          "text": [
            "send data:hoge\n"
          ]
        },
        {
          "output_type": "stream",
          "name": "stderr",
          "text": [
            "++Sent raw: b'\\x81\\x84\\x18\\xdb\\xa6Hp\\xb4\\xc1-'\n",
            "DEBUG:websocket:++Sent raw: b'\\x81\\x84\\x18\\xdb\\xa6Hp\\xb4\\xc1-'\n",
            "++Sent decoded: fin=1 opcode=1 data=b'hoge'\n",
            "DEBUG:websocket:++Sent decoded: fin=1 opcode=1 data=b'hoge'\n",
            "++Rcv raw: b'\\x81\\x1e{\"call\":\"reload\",\"stdin\":null}'\n",
            "DEBUG:websocket:++Rcv raw: b'\\x81\\x1e{\"call\":\"reload\",\"stdin\":null}'\n",
            "++Rcv decoded: fin=1 opcode=1 data=b'{\"call\":\"reload\",\"stdin\":null}'\n",
            "DEBUG:websocket:++Rcv decoded: fin=1 opcode=1 data=b'{\"call\":\"reload\",\"stdin\":null}'\n"
          ]
        },
        {
          "name": "stdout",
          "output_type": "stream",
          "text": [
            "receive : {\"call\":\"reload\",\"stdin\":null}\n",
            "send data:{call: 'reload'}\n"
          ]
        },
        {
          "output_type": "stream",
          "name": "stderr",
          "text": [
            "++Sent raw: b'\\x81\\x90\\x9b\\x11\\xba\\xc6\\xe0r\\xdb\\xaa\\xf7+\\x9a\\xe1\\xe9t\\xd6\\xa9\\xfau\\x9d\\xbb'\n",
            "DEBUG:websocket:++Sent raw: b'\\x81\\x90\\x9b\\x11\\xba\\xc6\\xe0r\\xdb\\xaa\\xf7+\\x9a\\xe1\\xe9t\\xd6\\xa9\\xfau\\x9d\\xbb'\n",
            "++Sent decoded: fin=1 opcode=1 data=b\"{call: 'reload'}\"\n",
            "DEBUG:websocket:++Sent decoded: fin=1 opcode=1 data=b\"{call: 'reload'}\"\n"
          ]
        },
        {
          "name": "stdout",
          "output_type": "stream",
          "text": [
            "send data:{call: 'reload'}\n"
          ]
        },
        {
          "output_type": "stream",
          "name": "stderr",
          "text": [
            "++Sent raw: b'\\x81\\x90/r\\x13\\xa8T\\x11r\\xc4CH3\\x8f]\\x17\\x7f\\xc7N\\x164\\xd5'\n",
            "DEBUG:websocket:++Sent raw: b'\\x81\\x90/r\\x13\\xa8T\\x11r\\xc4CH3\\x8f]\\x17\\x7f\\xc7N\\x164\\xd5'\n",
            "++Sent decoded: fin=1 opcode=1 data=b\"{call: 'reload'}\"\n",
            "DEBUG:websocket:++Sent decoded: fin=1 opcode=1 data=b\"{call: 'reload'}\"\n",
            " - goodbye\n",
            "ERROR:websocket: - goodbye\n",
            "++Sent raw: b'\\x88\\x82\\x0f6\\x0c\\xed\\x0c\\xde'\n",
            "DEBUG:websocket:++Sent raw: b'\\x88\\x82\\x0f6\\x0c\\xed\\x0c\\xde'\n",
            "++Sent decoded: fin=1 opcode=8 data=b'\\x03\\xe8'\n",
            "DEBUG:websocket:++Sent decoded: fin=1 opcode=8 data=b'\\x03\\xe8'\n"
          ]
        },
        {
          "output_type": "stream",
          "name": "stdout",
          "text": [
            "\n"
          ]
        },
        {
          "output_type": "stream",
          "name": "stderr",
          "text": [
            "error from callback <function Websocket_Client.__init__.<locals>.<lambda> at 0x7efc0fb26c20>: <lambda>() takes 1 positional argument but 3 were given\n",
            "ERROR:websocket:error from callback <function Websocket_Client.__init__.<locals>.<lambda> at 0x7efc0fb26c20>: <lambda>() takes 1 positional argument but 3 were given\n"
          ]
        },
        {
          "output_type": "stream",
          "name": "stdout",
          "text": [
            "<lambda>() takes 1 positional argument but 3 were given\n"
          ]
        }
      ]
    },
    {
      "cell_type": "markdown",
      "source": [
        "## プレイ\n",
        "\n",
        "[ゲーム画面](https://www.tomiko.cf/red/con4/room/demo-a.html) を開いて、作ったAIと対戦してみよう！"
      ],
      "metadata": {
        "id": "BDO2gdUYqB3v"
      }
    },
    {
      "cell_type": "code",
      "source": [
        "HOST_ADDR = \"wss://www.tomiko.cf/red/api/con4/demo-a\"\n",
        "ws_client = Websocket_Client(HOST_ADDR)\n",
        "ws_client.run_forever()\n"
      ],
      "metadata": {
        "id": "_VTXLRZU4LTi"
      },
      "execution_count": null,
      "outputs": []
    }
  ]
}