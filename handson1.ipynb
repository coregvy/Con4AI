{
  "cells": [
    {
      "cell_type": "markdown",
      "metadata": {
        "id": "view-in-github",
        "colab_type": "text"
      },
      "source": [
        "<a href=\"https://colab.research.google.com/github/coregvy/Con4AI/blob/master/handson1.ipynb\" target=\"_parent\"><img src=\"https://colab.research.google.com/assets/colab-badge.svg\" alt=\"Open In Colab\"/></a>"
      ]
    },
    {
      "cell_type": "markdown",
      "metadata": {
        "id": "d1QRBFQZpK1J"
      },
      "source": [
        "# コネクトフォー の ゲームAIを作ろう"
      ]
    },
    {
      "cell_type": "markdown",
      "metadata": {
        "id": "A-1Be_bkrYOi"
      },
      "source": [
        "## AI環境の準備"
      ]
    },
    {
      "cell_type": "markdown",
      "metadata": {
        "id": "9wgTmOfB3vjx"
      },
      "source": [
        "### tensorflow 1.x インストール\n",
        "tensorflow 1系はColabで使えなくなったので、強制的にインストールする\\\n",
        "参考：https://qiita.com/katoyu_try1/items/0228870c41d9ac54e6e9\n",
        "\n",
        "将来的には Stable Baselines3に対応するよう改修予定"
      ]
    },
    {
      "cell_type": "code",
      "execution_count": null,
      "metadata": {
        "collapsed": true,
        "id": "fVjSUJ_DrtED",
        "jupyter": {
          "outputs_hidden": true
        },
        "tags": []
      },
      "outputs": [],
      "source": [
        "!apt-get update && apt-get install -y -q cmake libopenmpi-dev zlib1g-dev"
      ]
    },
    {
      "cell_type": "code",
      "execution_count": null,
      "metadata": {
        "collapsed": true,
        "id": "cBgnKD--wZfg",
        "jupyter": {
          "outputs_hidden": true
        },
        "tags": []
      },
      "outputs": [],
      "source": [
        "!apt-get install -y -q ffmpeg freeglut3-dev xvfb"
      ]
    },
    {
      "cell_type": "code",
      "execution_count": null,
      "metadata": {
        "collapsed": true,
        "id": "YTUCc5KnpBtQ",
        "jupyter": {
          "outputs_hidden": true
        },
        "tags": []
      },
      "outputs": [],
      "source": [
        "!pip install tensorflow-gpu==1.15.2 --quiet"
      ]
    },
    {
      "cell_type": "markdown",
      "metadata": {
        "id": "gZUwAa-iHdU0"
      },
      "source": [
        "### ライブラリのインストール\n",
        "\n",
        "MPIは並列処理のライブラリです。"
      ]
    },
    {
      "cell_type": "code",
      "execution_count": null,
      "metadata": {
        "collapsed": true,
        "id": "Wp4S_sOXrbE3",
        "jupyter": {
          "outputs_hidden": true
        },
        "tags": []
      },
      "outputs": [],
      "source": [
        "#!python3.7\n",
        "!pip install gym==0.19.0 stable-baselines==2.10.2 --quiet\n",
        "# !pip install stable-baselines[mpi] --quiet"
      ]
    },
    {
      "cell_type": "markdown",
      "metadata": {
        "id": "_AwgYeU5yrSP"
      },
      "source": [
        "### Dependencis"
      ]
    },
    {
      "cell_type": "code",
      "execution_count": null,
      "metadata": {
        "id": "8kzRZXbVyrSQ"
      },
      "outputs": [],
      "source": [
        "#!python3.7\n",
        "import tensorflow as tf;\n",
        "import re\n",
        "import random\n",
        "import numpy as np\n",
        "\n",
        "import gym\n",
        "# from stable_baselines.common.policies import MlpPolicy\n",
        "from stable_baselines import PPO2\n",
        "\n",
        "import warnings\n",
        "\n",
        "# https://stackoverflow.com/questions/15777951/how-to-suppress-pandas-future-warning\n",
        "warnings.simplefilter(action='ignore', category=FutureWarning)\n",
        "warnings.simplefilter(action='ignore', category=Warning)\n",
        "\n",
        "tf.get_logger().setLevel('INFO')\n",
        "tf.autograph.set_verbosity(0)\n",
        "import logging\n",
        "tf.get_logger().setLevel(logging.ERROR)"
      ]
    },
    {
      "cell_type": "markdown",
      "metadata": {
        "id": "EH9JXDhtyrSR"
      },
      "source": [
        "+ tensorflow のインストール確認"
      ]
    },
    {
      "cell_type": "code",
      "execution_count": null,
      "metadata": {
        "id": "vi286tCfyrSR"
      },
      "outputs": [],
      "source": [
        "import tensorflow as tf;\n",
        "print(tf.reduce_sum(tf.random.normal([1000, 1000])))"
      ]
    },
    {
      "cell_type": "markdown",
      "metadata": {
        "id": "vl-CANTcyrSS"
      },
      "source": [
        "## 簡単なゲームでAIを学ぶ\n",
        "\n",
        "上下左右に移動して、ゴールを目指すゲームという簡単なルールのゲームを通して、[StableBaselines](https://stable-baselines.readthedocs.io/en/master/index.html) / [OpenAI Gym](https://github.com/openai/gym) を使ったゲームAIの作り方を学んでいきます。\n",
        "\n",
        "### ゲームルール\n",
        "\n",
        "以下のような入力を与えます\n",
        "```\n",
        ".......\n",
        ".......\n",
        "..P....\n",
        ".......\n",
        ".......\n",
        ".....G.\n",
        ".......\n",
        "```\n",
        "7x7マスに `P` (Player) の位置から `G` (Goal) に向けて移動するゲームです。\n",
        "出力には\n",
        "\n",
        "- 0: 上\n",
        "- 1: 右\n",
        "- 2: 下\n",
        "- 3: 左\n",
        "\n",
        "に移動します。枠外に出てしまった場合は失敗です。\n"
      ]
    },
    {
      "cell_type": "markdown",
      "metadata": {
        "id": "vknDNaoLyrSS"
      },
      "source": [
        "### 環境クラス\n",
        "\n",
        "ゲームのルールにあわせた、環境クラスを作成します。\\\n",
        "環境クラスでは以下のメソッドを定義する必要があります。\n",
        "* reset：状態を初期化します\n",
        "* step：次の行動を入力として、一つステップを進める関数を作成します。報酬の計算も行います。\n",
        "* render：現在の状態を描画します。中身は適当で大丈夫です\n",
        "\n",
        "また、以下の変数をコンストラクタで定義する必要があります。\n",
        "* action_space：実際の行動の数を設定\n",
        "* self.observation_space：状態空間の定義\n"
      ]
    },
    {
      "cell_type": "code",
      "execution_count": null,
      "metadata": {
        "id": "fHlybnBfyrSS"
      },
      "outputs": [],
      "source": [
        "class Dist(gym.Env):\n",
        "  MAX_X = 7\n",
        "  MAX_Y = 7\n",
        "  ACTION_TOP = 0\n",
        "  ACTION_RIGHT = 1\n",
        "  ACTION_BOTTOM = 2\n",
        "  ACTION_LEFT = 3\n",
        "  PRE = [0,0,0]\n",
        "  ACTION_MARK = ['↑','→','↓','←']\n",
        "  POS_MY = [0,0]\n",
        "  POS_GOAL = [MAX_X, MAX_Y]\n",
        "\n",
        "  def __init__(self) -> None:\n",
        "    super(Dist, self).__init__()\n",
        "    self.initState()\n",
        "    self.action_space = gym.spaces.Discrete(4)\n",
        "    self.observation_space = gym.spaces.Box(low=0, high=self.MAX_X * self.MAX_Y - 1, shape=(5,), dtype = np.uint8)\n",
        "\n",
        "  def reset(self):\n",
        "    # 状態を初期化します\n",
        "    self.initState()\n",
        "    return self.state()\n",
        "\n",
        "  def step(self, action):\n",
        "    self.PRE = [self.POS_MY[0], self.POS_MY[1], action]\n",
        "    # 座標移動\n",
        "    if action == self.ACTION_TOP:\n",
        "      self.POS_MY[1] -= 1\n",
        "    elif action == self.ACTION_RIGHT:\n",
        "      self.POS_MY[0] += 1\n",
        "    elif action == self.ACTION_BOTTOM:\n",
        "      self.POS_MY[1] += 1\n",
        "    elif action == self.ACTION_LEFT:\n",
        "      self.POS_MY[0] -= 1\n",
        "    \n",
        "    # ゴールまでの距離を計算\n",
        "    dist = self.distance(self.POS_MY, self.POS_GOAL)\n",
        "    # ゴールしたか、枠外に出た場合は終了\n",
        "    done = (dist == 0) or self.isOver()\n",
        "    reward = 0\n",
        "    if dist == 0:\n",
        "      reward = 1\n",
        "    return self.state(), reward, done, {}\n",
        "\n",
        "  # 現在の盤面の状態をコンソール表示\n",
        "  def render(self, mode='console', close=False):\n",
        "    print(str(self.state()))\n",
        "    for y in range(self.MAX_Y):\n",
        "      print('| ', end='')\n",
        "      for x in range(self.MAX_X):\n",
        "        print(self.renderMark(x, y), end='')\n",
        "      print(' |')\n",
        "\n",
        "  def renderMark(self, x, y):\n",
        "    if (x == self.POS_MY[0]) and (y == self.POS_MY[1]):\n",
        "      return 'P'\n",
        "    elif (x == self.POS_GOAL[0]) and (y == self.POS_GOAL[1]):\n",
        "      return 'G'\n",
        "    elif (x == self.PRE[0]) and (y == self.PRE[1]):\n",
        "      return self.ACTION_MARK[self.PRE[2]]\n",
        "    else:\n",
        "      return '.'\n",
        "  \n",
        "  # ゲームをリセットする(P/G の位置をランダムに配置)\n",
        "  def initState(self):\n",
        "    self.POS_MY = [random.randrange(self.MAX_X - 1), random.randrange(self.MAX_Y - 1)]\n",
        "    self.POS_GOAL = [random.randrange(self.MAX_X - 1), random.randrange(self.MAX_Y - 1)]\n",
        "    # ゴールまで近すぎる場合はやり直し\n",
        "    if self.distance(self.POS_MY, self.POS_GOAL) < 3:\n",
        "      self.initState()\n",
        "\n",
        "  # 枠外に出たかどうかを判定\n",
        "  def isOver(self):\n",
        "    if self.POS_MY[0] < 0 or self.POS_MY[1] < 0 or self.POS_MY[0] >= self.MAX_X or self.POS_MY[1] >= self.MAX_Y:\n",
        "      return True\n",
        "    return False \n",
        "\n",
        "  def state(self):\n",
        "    return [self.POS_MY[0], self.POS_MY[1], self.POS_GOAL[0], self.POS_GOAL[1], self.distance(self.POS_MY, self.POS_GOAL)]\n",
        "\n",
        "  # マンハッタン距離を返す\n",
        "  def distance(self, a, b):\n",
        "    return abs(a[0] - b[0]) + abs(a[1] - b[1])\n"
      ]
    },
    {
      "cell_type": "markdown",
      "metadata": {
        "id": "9n1lXGpnyrST"
      },
      "source": [
        "### トレーニングしてみる\n",
        "\n",
        "上で作った環境クラスを使って、実際にトレーニングしてみます。"
      ]
    },
    {
      "cell_type": "code",
      "execution_count": null,
      "metadata": {
        "id": "T8rmIJmVyrST"
      },
      "outputs": [],
      "source": [
        "env0 = Dist()\n",
        "\n",
        "# モデルの生成\n",
        "#  verbose：ログの詳細表示(0:ログなし、1:訓練情報を表示、2:TensorFlowログを表示)\n",
        "model0 = PPO2('MlpPolicy', env0, verbose=0, tensorboard_log=\"./log/step0\")\n",
        "\n",
        "# モデルの学習回数\n",
        "sample = 10000\n",
        "model0.learn(total_timesteps=sample)\n",
        "# モデルをファイル保存\n",
        "model0.save('dist_model_' + str(sample))\n",
        "\n",
        "print('training end')\n"
      ]
    },
    {
      "cell_type": "markdown",
      "metadata": {
        "id": "kiphLZlyyrST"
      },
      "source": [
        "### 学習結果を確認してみましょう\n",
        "\n",
        "まずはグラフで学習結果を確認してみましょう。"
      ]
    },
    {
      "cell_type": "code",
      "execution_count": null,
      "metadata": {
        "id": "ShMmQgnsyrST"
      },
      "outputs": [],
      "source": [
        "%load_ext tensorboard\n",
        "%tensorboard --logdir=./log/"
      ]
    },
    {
      "cell_type": "markdown",
      "metadata": {
        "id": "J28fC0sUyrSU"
      },
      "source": [
        "次に、作ったAIが想定通りに動くか実際に試してみましょう"
      ]
    },
    {
      "cell_type": "code",
      "execution_count": null,
      "metadata": {
        "id": "2GOgkaQ6yrSU"
      },
      "outputs": [],
      "source": [
        "# 状態をリセット\n",
        "env0.reset()\n",
        "i = 0\n",
        "while True:\n",
        "  i += 1\n",
        "  # 次のAIの行動を取得する\n",
        "  action, _ = model0.predict(env0.state())\n",
        "  state, reward, done, info = env0.step(action)\n",
        "  # 現在の状態を描画\n",
        "  env0.render()\n",
        "\n",
        "  if done:\n",
        "    print('end: ', i)\n",
        "    break\n",
        "  print('next action:', done, action, reward)\n"
      ]
    },
    {
      "cell_type": "markdown",
      "metadata": {
        "id": "l0vVcVCqyrSU"
      },
      "source": [
        "うまくゴールまで行けたでしょうか？\\\n",
        "次は、より最適な行動をAIが選択するように、どうやって改良するかを学びます。"
      ]
    },
    {
      "cell_type": "markdown",
      "source": [
        "## AIのチューニング"
      ],
      "metadata": {
        "id": "-ywtOa9y3F6Y"
      }
    },
    {
      "cell_type": "markdown",
      "source": [
        "### 報酬とは？\n",
        "\n",
        "機械学習では、教師データ（入力とそれに対する正しい答え）の代わりに、入力に対する報酬を評価するロジックを作成します。"
      ],
      "metadata": {
        "id": "bTZqFS9G63eK"
      }
    },
    {
      "cell_type": "markdown",
      "source": [
        "![image.png](data:image/png;base64,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)"
      ],
      "metadata": {
        "id": "t6hO-0pi6tgk"
      }
    },
    {
      "cell_type": "markdown",
      "metadata": {
        "id": "R2piOTKbyrSU"
      },
      "source": [
        "環境クラスの step 関数をみてみます。\n",
        "\n",
        "```python\n",
        "  def step(self, action):\n",
        "    self.PRE = [self.POS_MY[0], self.POS_MY[1], action]\n",
        "    # 座標移動\n",
        "    if action == self.ACTION_TOP:\n",
        "      self.POS_MY[1] -= 1\n",
        "    elif action == self.ACTION_RIGHT:\n",
        "      self.POS_MY[0] += 1\n",
        "    elif action == self.ACTION_BOTTOM:\n",
        "      self.POS_MY[1] += 1\n",
        "    elif action == self.ACTION_LEFT:\n",
        "      self.POS_MY[0] -= 1\n",
        "    \n",
        "    # ゴールまでの距離を計算\n",
        "    dist = self.distance(self.POS_MY, self.POS_GOAL)\n",
        "    done = (dist == 0) or self.isOver()\n",
        "    reward = 0\n",
        "    if dist == 0:\n",
        "      reward = 1\n",
        "    return self.state(), reward, done, {}\n",
        "```\n",
        "\n",
        "action(次の行動) を与えて、現在の状態を更新し、reward(報酬) を返却しています。\n",
        "機械学習は、この報酬が大きくなる行動を選んでいます。\n",
        "\n",
        "上のコードでは、ゴールした時のみ報酬を与えていますが、この場合、どれだけ遠回りしてもゴールさえできれば報酬の合計は変わらないです。\\\n",
        "遠回りしないAIを作るには、ゴールに近づいたときに報酬を与えたり、遠回りした時に報酬を減らしたりしなければいけません。\n",
        "\n",
        "```python\n",
        "  def step(self, action):\n",
        "    self.PRE = [self.POS_MY[0], self.POS_MY[1], action]\n",
        "    beforeDist = self.distance(self.POS_MY, self.POS_GOAL)\n",
        "    if action == self.ACTION_TOP:\n",
        "      self.POS_MY[1] -= 1\n",
        "    elif action == self.ACTION_RIGHT:\n",
        "      self.POS_MY[0] += 1\n",
        "    elif action == self.ACTION_BOTTOM:\n",
        "      self.POS_MY[1] += 1\n",
        "    elif action == self.ACTION_LEFT:\n",
        "      self.POS_MY[0] -= 1\n",
        "    \n",
        "    dist = self.distance(self.POS_MY, self.POS_GOAL)\n",
        "    done = (dist == 0) or self.isOver()\n",
        "    reward = 0\n",
        "    if dist == 0:\n",
        "      # ゴールした\n",
        "      reward = 1\n",
        "    elif dist > beforeDist:\n",
        "      # ゴールから遠ざかった\n",
        "      reward = -0.1\n",
        "    return self.state(), reward, done, {}\n",
        "```\n",
        "\n",
        "上のように変更して実行してみましょう。\\\n",
        "最短でゴールすれば、報酬は `1`、遠回りした回数が多いほど報酬が減らされることになります。\\\n",
        "tensorboard のグラフを確認して、どのような変化があったか確認してみましょう。\n",
        "\n",
        "今回の移動ゲームはルールが単純ですが、複雑になるほど報酬の与え方を調整しなければいけません。\n"
      ]
    },
    {
      "cell_type": "markdown",
      "metadata": {
        "id": "szXEWQg4yrSV"
      },
      "source": [
        "### 学習回数とは？\n",
        "\n",
        "先ほどの例では、サンプル数を１万回でトレーニングしました。\n",
        "\n",
        "```python\n",
        "# モデルの学習回数\n",
        "sample = 10000\n",
        "model0.learn(total_timesteps=sample)\n",
        "model0.save('dist_model_' + str(sample))\n",
        "```\n",
        "\n",
        "こちらの数を変更して、もう一度実行してみてください。\n",
        "\n",
        "今回は単純なゲームなので、あまり変化が見られないかもしれませんが、基本的には学習回数を増やせばその分より良い行動をとるAIになります。\\\n",
        "しかし学習回数が多くなると、特定のパターン（攻略法）だけを学習してしまい、全体のパターンをつかめなくなる ”過学習” という現象が発生しやすくなります。\n",
        "\n",
        "学習の様子を tensorboard のグラフで確認したり、実際に動かしてみながら、最適な学習回数を探す必要があります。\n",
        "\n"
      ]
    },
    {
      "cell_type": "markdown",
      "metadata": {
        "id": "e588ruV6yrSV"
      },
      "source": [
        "### その他の機械学習AIチューニング方法\n",
        "\n",
        "今回はトレーニングの際に、機械学習アルゴリズムとして、[\"PPO2\"](https://stable-baselines.readthedocs.io/en/master/modules/ppo2.html) というアルゴリズムと、[\"MlpPolicy\"](https://stable-baselines.readthedocs.io/en/master/modules/policies.html) を使っています。\n",
        "\n",
        "```python\n",
        "model0 = PPO2('MlpPolicy', env0, verbose=0, tensorboard_log=\"../log/step0\")\n",
        "```\n",
        "\n",
        "これらが具体的にどんなものかは、各自で調べてみてください。\n",
        "内容は非常に難しいですが、攻略がうまくいかない場合はアルゴリズムから変更してみるのもいいかもしれません。\n",
        "\n",
        "パラメータもデフォルト値を使いましたが、今回のゲームでは、例えば１回ごとの行動でゴールに近づいた場合に報酬を与えたり、離れた場合にマイナスの報酬を与えるようなstep関数を作ったとしましょう。\n",
        "その場合、シナリオ全体の報酬ではなく、1回の行動ごとに高い報酬を得るように行動するAIを作りたいです。\\\n",
        "そんな時には、割引率(gamma)を小さな値にしたり、学習率(lerning_rate)を小さくしたほうがよいかもしれません。\n",
        "\n",
        "```python\n",
        "model0 = PPO2('MlpPolicy', env0, gamma=0.6, lerning_rate=0.01, verbose=0, tensorboard_log=\"../log/step0_2\")\n",
        "```\n",
        "\n",
        "逆に、１回のゲーム全体でみてより大きい報酬を得たい場合は、それらの値を大きくすると、AIの行動が変わってきます。\\\n",
        "報酬の与え方次第では、遠回りしてゴールまでの移動回数を大きくしたほうが、シナリオごとの総報酬が大きくなってしまい、いつまでもゴールしないAIができてしまうかもしれません。\n",
        "\n",
        "アルゴリズムごとに他にもたくさんのパラメータがありますので、調べてみるとより強いAIができるかもしれません。\\\n",
        "パラメータを調整するのと合わせて、学習結果のグラフを読み取る力もつけていく必要があります。\n"
      ]
    },
    {
      "cell_type": "markdown",
      "metadata": {
        "id": "kr2HxAneyrSV"
      },
      "source": [
        "### Challenge!\n",
        "\n",
        "ゲームの盤面に障害物（プレイヤーが移動できないマス）を置いた時、正しくゴールまで移動できるAIを作ってみましょう！\\\n",
        "難しい場合は [こちら](https://ailog.site/2021/05/23/2021/0523/) を参考にしてみましょう。"
      ]
    },
    {
      "cell_type": "markdown",
      "metadata": {
        "id": "H8xdTSHH4ldN"
      },
      "source": [
        "## コネクトフォーのAIを作る\n",
        "\n",
        "いよいよコネクトフォーのAIを作ってみましょう。"
      ]
    },
    {
      "cell_type": "markdown",
      "metadata": {
        "id": "jg8OYVmusXFl"
      },
      "source": [
        "### game_util.py\n",
        "\n",
        "コネクトフォー独自のルールやロジックなど"
      ]
    },
    {
      "cell_type": "code",
      "execution_count": null,
      "metadata": {
        "collapsed": true,
        "id": "kRalBw_JrcXR",
        "jupyter": {
          "outputs_hidden": true
        },
        "tags": []
      },
      "outputs": [],
      "source": [
        "import re\n",
        "import random\n",
        "\n",
        "class GameUtil:\n",
        "  @staticmethod\n",
        "  def stdinToState(stdin, blank='0', my='1', your='2'):\n",
        "    # サーバから受け取る盤面の情報を読み込む\n",
        "    ao = stdin.splitlines()\n",
        "    meta = ao.pop(0).split(' ')\n",
        "    return list(map(lambda x: list(re.sub('[^MB]', 'Y', x.replace('.', 'B').replace(meta[2], 'M')).replace('Y', your).replace('B', blank).replace('M', my)), ao))\n",
        "\n",
        "  def listToState(ao, meta, blank='0', my='1', your='2'):\n",
        "    # 一次元配列で受け取った盤面の情報を二次元配列に置き換える\n",
        "    for row in range(int(meta[1])):\n",
        "      for col in range(int(meta[0])):\n",
        "        if ao[row][col] == '.':\n",
        "          ao[row][col] = blank\n",
        "        elif ao[row][col] == meta[2]:\n",
        "          ao[row][col] = my\n",
        "        else:\n",
        "          ao[row][col] = your\n",
        "    return ao\n",
        "\n",
        "  @staticmethod\n",
        "  def resetState(row = 6, col = 7):\n",
        "    return [['0'] * col for i in range(row)]\n",
        "\n",
        "  @staticmethod\n",
        "  def fallCoin(state, action, mark='1', blank='0'):\n",
        "    \"\"\" Return new state\n",
        "\n",
        "    Args:\n",
        "        state (list[list[str]]): state list\n",
        "        action (number): [colmn number]\n",
        "        mark (str, optional): [description]. Defaults to '1'.\n",
        "        blank (str, optional): [description]. Defaults to '0'.\n",
        "\n",
        "    Returns:\n",
        "        list: new state\n",
        "    \"\"\"\n",
        "    fallNg = True\n",
        "    for ry in range(len(state)):\n",
        "      y = len(state) - ry - 1\n",
        "      if state[y][action] == blank:\n",
        "        state[y][action] = mark\n",
        "        fallNg = False\n",
        "        break\n",
        "    return state, fallNg\n",
        "\n",
        "  @staticmethod\n",
        "  def checkEnd(state, goal=4, blank='0'):\n",
        "    \"\"\" Check if the game is finished\n",
        "\n",
        "    Args:\n",
        "        state (list[list[str]]): game state list\n",
        "        goal (int, optional): goal count. Defaults to 4.\n",
        "        blank (str, optional): blank mark. Defaults to '0'.\n",
        "\n",
        "    Returns:\n",
        "        str: Win mark or blank\n",
        "    \"\"\"\n",
        "    # GameUtil.render(state)\n",
        "    # check row(-)\n",
        "    for row in range(len(state)):\n",
        "      for col in range(len(state[row]) - goal + 1):\n",
        "        tmpMark = state[row][col]\n",
        "        if tmpMark == blank:\n",
        "          continue\n",
        "        for p in range(goal - 1):\n",
        "          if tmpMark != state[row][col + p + 1]:\n",
        "            tmpMark = blank\n",
        "            break\n",
        "        \n",
        "        if tmpMark != blank:\n",
        "          return tmpMark\n",
        "\n",
        "    # check col(|)\n",
        "    for col in range(len(state[0])):\n",
        "      for row in range(len(state) - goal + 1):\n",
        "        tmpMark = state[row][col]\n",
        "        if tmpMark == blank:\n",
        "          continue\n",
        "        for p in range(goal - 1):\n",
        "          if tmpMark != state[row + p + 1][col]:\n",
        "            tmpMark = blank\n",
        "            break\n",
        "\n",
        "        if tmpMark != blank:\n",
        "          return tmpMark\n",
        "\n",
        "    # check /\n",
        "    for row in range(goal - 1, len(state)):\n",
        "      for col in range(0, len(state[row]) - goal + 1):\n",
        "        tmp = state[row][col]\n",
        "        if tmp == blank:\n",
        "          continue\n",
        "        for r in range(1, goal):\n",
        "          if tmp != state[row - r][col + r]:\n",
        "            tmp = blank\n",
        "            break\n",
        "        if tmp != blank:\n",
        "          return tmp\n",
        "\n",
        "    # check \\\n",
        "    for row in range(len(state) - goal + 1):\n",
        "      for col in range(len(state[row]) - goal + 1):\n",
        "        tmp = state[row][col]\n",
        "        if tmp == blank:\n",
        "          continue\n",
        "        for r in range(1, goal):\n",
        "          if tmp != state[row + r][col + r]:\n",
        "            tmp = blank\n",
        "            break\n",
        "        if tmp != blank:\n",
        "          return tmp\n",
        "\n",
        "    return blank\n",
        "\n",
        "  @staticmethod\n",
        "  def checkReach(state, mark = '1', goal=4, blank='0'):\n",
        "    \"\"\" Check if the game is Reach\n",
        "\n",
        "    Args:\n",
        "        state (list[list[str]]): game state list\n",
        "        goal (int, optional): goal count. Defaults to 4.\n",
        "        blank (str, optional): blank mark. Defaults to '0'.\n",
        "\n",
        "    Returns:\n",
        "        str: Win mark or blank\n",
        "        pos: reach column\n",
        "    \"\"\"\n",
        "    ret = []\n",
        "    for i in range(len(state[0])):\n",
        "      ps, _ = GameUtil.fallCoin(GameUtil.stateCopy(state), i, mark, blank)\n",
        "      ec = GameUtil.checkEnd(ps, goal, blank)\n",
        "      if ec != blank:\n",
        "        ret.append([ec, i])\n",
        "    return ret\n",
        "\n",
        "  @staticmethod\n",
        "  def stateCopy(state):\n",
        "    row = len(state)\n",
        "    col = len(state[0])\n",
        "    ret = [['0'] * col for i in range(row)]\n",
        "    for r in range(row):\n",
        "      for c in range(col):\n",
        "        ret[r][c] = state[r][c]\n",
        "    return ret\n",
        "\n",
        "\n",
        "  @staticmethod\n",
        "  def render(state, my = '1', blank = '0'):\n",
        "    print('-0-1-2-3-4-5-6-')\n",
        "    for i in range(len(state)):\n",
        "      print(' ', end='')\n",
        "      for j in range(len(state[i])):\n",
        "        mark = '☆'\n",
        "        if state[i][j] == my:\n",
        "          mark = '◆'\n",
        "        elif state[i][j] == blank:\n",
        "          mark = '・'\n",
        "        print(mark, end='')\n",
        "      print()\n",
        "    print('--------------')\n",
        "\n",
        "  @staticmethod\n",
        "  def enemyPlay(state):\n",
        "    # todo\n",
        "    pos = random.randrange(7)\n",
        "    if state[0][pos] == '0':\n",
        "      return pos\n",
        "    else:\n",
        "      return GameUtil.enemyPlay(state)\n"
      ]
    },
    {
      "cell_type": "markdown",
      "metadata": {
        "id": "zYwEWmYjshwY"
      },
      "source": [
        "### environment.py\n",
        "\n",
        "StableBaselines の環境クラス"
      ]
    },
    {
      "cell_type": "code",
      "execution_count": null,
      "metadata": {
        "collapsed": true,
        "id": "za-bTKj-sjpY",
        "jupyter": {
          "outputs_hidden": true
        }
      },
      "outputs": [],
      "source": [
        "\n",
        "class Con4(gym.Env):\n",
        "  MY_MARK = '1'\n",
        "  BLANK_MARK = '0'\n",
        "  MAX_ROW = 6\n",
        "  MAX_COL = 7\n",
        "\n",
        "  def __init__(self):\n",
        "    super(Con4, self).__init__()\n",
        "    self.board = GameUtil.resetState(self.MAX_ROW, self.MAX_COL)\n",
        "    self.action_space = gym.spaces.Discrete(self.MAX_COL)\n",
        "    self.observation_space = gym.spaces.Box(low=0, high=2, shape=(self.MAX_ROW, self.MAX_COL))\n",
        "\n",
        "  def reset(self):\n",
        "    # 状態を初期化します\n",
        "    self.board = GameUtil.resetState(self.MAX_ROW, self.MAX_COL)\n",
        "    return self.board\n",
        "\n",
        "  def step(self, action):\n",
        "    reward = 0\n",
        "    done = False\n",
        "    # アクション実行後の状態を取得する\n",
        "    self.board, stepNg = GameUtil.fallCoin(self.board, action, self.MY_MARK, self.BLANK_MARK)\n",
        "    if stepNg:\n",
        "      # この列にコインをこれ以上落とせなかった\n",
        "      done = True\n",
        "      reward = -10000\n",
        "      return self.board, reward, done, {}\n",
        "    # 相手の行動を追加する\n",
        "    self.board, stepNg = GameUtil.fallCoin(self.board, GameUtil.enemyPlay(self.board), '2', self.BLANK_MARK)\n",
        "    # ゲームが終了したかどうかを確認する\n",
        "    win = GameUtil.checkEnd(self.board)\n",
        "    if win == self.MY_MARK:\n",
        "      # 自分が勝った\n",
        "      done = True\n",
        "      reward = 1.0\n",
        "    elif win != self.BLANK_MARK:\n",
        "      # 相手が勝った\n",
        "      done = True\n",
        "      reward = -1\n",
        "    return self.board, reward, done, {}\n",
        "\n",
        "  def render(self, mode='console', close=False):\n",
        "    GameUtil.render(self.board, self.MY_MARK, self.BLANK_MARK)\n",
        "\n",
        "  def initState(self):\n",
        "    \"\"\" 盤面を初期化する\n",
        "\n",
        "    Returns:\n",
        "        list: 初期化された盤面の2次元配列\n",
        "    \"\"\"\n",
        "    return [[self.BLANK_MARK] * self.MAX_COL for i in range(self.MAX_ROW)]"
      ]
    },
    {
      "cell_type": "markdown",
      "metadata": {
        "id": "U6cNp-NMsuBv"
      },
      "source": [
        "### training\n",
        "\n",
        "指定回数反復学習し、結果をモデルファイルとして保存する"
      ]
    },
    {
      "cell_type": "code",
      "execution_count": null,
      "metadata": {
        "collapsed": true,
        "id": "2QmWXnhXsvJD",
        "jupyter": {
          "outputs_hidden": true
        }
      },
      "outputs": [],
      "source": [
        "#!python3.7\n",
        "env = Con4()\n",
        "\n",
        "# モデルの生成\n",
        "#  verbose：ログの詳細表示(0:ログなし、1:訓練情報を表示、2:TensorFlowログを表示)\n",
        "model = PPO2('MlpPolicy', env, verbose=0, tensorboard_log='./log/con4')\n",
        "# model = PPO2(MlpPolicy, env, verbose=0)\n",
        "# モデルの学習\n",
        "sample = 20000\n",
        "model.learn(total_timesteps=sample)\n",
        "# モデルの保存\n",
        "model.save('con4_model_' + str(sample))\n",
        "\n",
        "print('training end', sample)\n"
      ]
    },
    {
      "cell_type": "markdown",
      "metadata": {
        "id": "CGRrZuqD0TIU"
      },
      "source": [
        "### 学習結果の確認\n",
        "\n",
        "Tensorboard を使用して、学習の様子を確認します。\\\n",
        "パラメータや報酬ロジックを変更した際には違いを確認し、より強いAIになるよう調整しましょう\n"
      ]
    },
    {
      "cell_type": "code",
      "execution_count": null,
      "metadata": {
        "collapsed": true,
        "id": "volXgUE_0YCO",
        "jupyter": {
          "outputs_hidden": true
        }
      },
      "outputs": [],
      "source": [
        "%load_ext tensorboard\n",
        "%tensorboard --logdir=./log/con4"
      ]
    },
    {
      "cell_type": "markdown",
      "metadata": {
        "id": "2DKN-J9wuQst"
      },
      "source": [
        "### AIのテスト\n",
        "\n",
        "作ったAIが想定通りに動くか、まずはコンソールで試してみましょう"
      ]
    },
    {
      "cell_type": "code",
      "execution_count": null,
      "metadata": {
        "collapsed": true,
        "id": "akzVT9PyuTr_",
        "jupyter": {
          "outputs_hidden": true
        }
      },
      "outputs": [],
      "source": [
        "state = GameUtil.resetState(6, 7)\n",
        "i = 0\n",
        "\n",
        "while True:\n",
        "  i += 1\n",
        "  action, _ = model.predict(state)\n",
        "  state, done = GameUtil.fallCoin(state, action)\n",
        "  if done:\n",
        "    print('failed fall: ', action)\n",
        "    GameUtil.render(state)\n",
        "    break\n",
        "  done = GameUtil.checkEnd(state)\n",
        "  if done != '0':\n",
        "    print('end: ', i)\n",
        "    break\n",
        "\n",
        "  GameUtil.render(state)\n",
        "  if done != '0':\n",
        "    print('win ai: ', i)\n",
        "    break\n",
        "  print('AI action:', done, action)\n",
        "  action = input('input action > ')\n",
        "  state, done = GameUtil.fallCoin(state, int(action), mark = '2')\n",
        "  if done:\n",
        "    print('failed fall: ', action)\n",
        "    GameUtil.render(state)\n",
        "    break\n",
        "  done = GameUtil.checkEnd(state)\n",
        "  if done != '0':\n",
        "    print('win player: ', i)\n",
        "    break"
      ]
    },
    {
      "cell_type": "markdown",
      "metadata": {
        "id": "gKTyeXdLpNl4"
      },
      "source": [
        "### WebSocket準備\n",
        "\n",
        "ゲーム画面と連携するため、WebSocketの準備をします\\\n",
        "このプログラムは変更しないでください。"
      ]
    },
    {
      "cell_type": "code",
      "execution_count": null,
      "metadata": {
        "collapsed": true,
        "id": "9LOHYYgD1C80",
        "jupyter": {
          "outputs_hidden": true
        }
      },
      "outputs": [],
      "source": [
        "!pip install websocket-client --quiet"
      ]
    },
    {
      "cell_type": "code",
      "execution_count": null,
      "metadata": {
        "collapsed": true,
        "id": "sGl8CYkNpbmB",
        "jupyter": {
          "outputs_hidden": true
        },
        "tags": []
      },
      "outputs": [],
      "source": [
        "import websocket\n",
        "import json\n",
        "try:\n",
        "    import thread\n",
        "except ImportError:\n",
        "    import _thread as thread\n",
        "import time\n",
        "\n",
        "class Websocket_Client():\n",
        "    isLogin = False\n",
        "    userNo = -1\n",
        "\n",
        "    def __init__(self, host_addr):\n",
        "\n",
        "        # デバックログの表示/非表示設定\n",
        "        websocket.enableTrace(True)\n",
        "\n",
        "        # WebSocketAppクラスを生成\n",
        "        # 関数登録のために、ラムダ式を使用\n",
        "        self.ws = websocket.WebSocketApp(host_addr,\n",
        "            on_message = lambda ws, msg: self.on_message(ws, msg),\n",
        "            on_error   = lambda ws, msg: self.on_error(ws, msg),\n",
        "            on_close   = lambda ws: self.on_close(ws))\n",
        "        self.ws.on_open = lambda ws: self.on_open(ws)\n",
        "\n",
        "    # メッセージ受信に呼ばれる関数\n",
        "    def on_message(self, ws, message):\n",
        "        print(\"### receive : {}\".format(message))\n",
        "        sendData = {}\n",
        "        msg = json.loads(message)\n",
        "        if msg['call'] == 'reload':\n",
        "            print('+++++ reload')\n",
        "            if self.isLogin:\n",
        "                print('+++ Logedin reload')\n",
        "            elif 'player' in msg:\n",
        "                print('ゲームが進行中です。想定外の場合はゲーム画面からゲーム終了ボタンを押してください。')\n",
        "                self.ws.close()\n",
        "                return\n",
        "            elif 'user0' in msg:\n",
        "                print('先攻のユーザがログイン中です。後攻で参加します。')\n",
        "                sendData['user1'] = input('ユーザ名を入力してください >')\n",
        "                sendData['call'] = 'login'\n",
        "                self.isLogin = True\n",
        "                self.userNo = '1'\n",
        "            elif 'user1' in msg:\n",
        "                print('後攻のユーザがログイン中です。先攻で参加します。')\n",
        "                sendData['user0'] = input('ユーザ名を入力してください >')\n",
        "                sendData['call'] = 'login'\n",
        "                self.isLogin = True\n",
        "                self.userNo = '0'\n",
        "            else:\n",
        "                self.userNo = input('先攻で参加する場合は0, 後攻で参加する場合は1を入力 > ')\n",
        "                sendData['user'+self.userNo] = input('ユーザ名を入力してください >')\n",
        "                sendData['call'] = 'login'\n",
        "                self.isLogin = True\n",
        "        elif msg['call'] == 'step':\n",
        "            print('+++++ step')\n",
        "            state = GameUtil.stdinToState(msg['stdin'])\n",
        "            GameUtil.render(state)\n",
        "            if self.isLogin == False:\n",
        "                print('ゲームが進行中です。想定外の場合はゲーム画面からゲーム終了ボタンを押してください。')\n",
        "                self.ws.close()\n",
        "                return\n",
        "            if self.userNo == str(msg['player']):\n",
        "                print('action start')\n",
        "                sendData['call'] = 'step'\n",
        "                sendData['stdin'] = msg['stdin']\n",
        "                sendData['player'] = self.userNo\n",
        "                # 手動で入力する場合\n",
        "                # sendData['stdout'] = input('next action >')\n",
        "                action, _ = model.predict(state)\n",
        "                sendData['stdout'] = int(action)\n",
        "            else:\n",
        "                print('skip action')\n",
        "                return\n",
        "        elif msg['call'] == 'login':\n",
        "            print('+++++ login')\n",
        "            return\n",
        "        elif msg['call'] == 'end':\n",
        "            print('+++++ end', msg['message'])\n",
        "            GameUtil.render(GameUtil.stdinToState(msg['stdin']))\n",
        "            self.ws.close()\n",
        "            return\n",
        "        else:\n",
        "            print('+++++ unknown call', msg['call'])\n",
        "            return\n",
        "\n",
        "        if 'call' in sendData:\n",
        "            self.sendJson(sendData)\n",
        "            \n",
        "\n",
        "    # エラー時に呼ばれる関数\n",
        "    def on_error(self, ws, error):\n",
        "        print(error)\n",
        "\n",
        "    # サーバーから切断時に呼ばれる関数\n",
        "    def on_close(self, ws):\n",
        "        print(\"### closed ###\")\n",
        "\n",
        "    # サーバーから接続時に呼ばれる関数\n",
        "    def on_open(self, ws):\n",
        "        thread.start_new_thread(self.run, ())\n",
        "        print('+++ start new thread end');\n",
        "        time.sleep(1)\n",
        "        self.sendJson({'call': 'reload'})\n",
        "\n",
        "    # サーバーから接続時にスレッドで起動する関数\n",
        "    def run(self, *args):\n",
        "        while True:\n",
        "            time.sleep(0.1)\n",
        "            # input_data = input(\"send data:\") \n",
        "            # self.ws.send(input_data)\n",
        "    \n",
        "        self.ws.close()\n",
        "        print(\"thread terminating...\")\n",
        "    def sendJson(self, data):\n",
        "        print('### send:', data)\n",
        "        self.ws.send(json.dumps(data))\n",
        "\n",
        "    # websocketクライアント起動\n",
        "    def run_forever(self):\n",
        "        self.ws.run_forever()\n",
        "\n"
      ]
    },
    {
      "cell_type": "markdown",
      "metadata": {
        "id": "BDO2gdUYqB3v"
      },
      "source": [
        "### プレイ\n",
        "\n",
        "[ゲーム画面](https://www.tomiko.cf/red/con4/room/demo-a.html) を開いて、作ったAIと対戦してみよう！"
      ]
    },
    {
      "cell_type": "code",
      "execution_count": null,
      "metadata": {
        "collapsed": true,
        "id": "_VTXLRZU4LTi",
        "jupyter": {
          "outputs_hidden": true
        },
        "tags": []
      },
      "outputs": [],
      "source": [
        "HOST_ADDR = \"wss://www.tomiko.cf/red/api/con4/demo-a\"\n",
        "ws_client = Websocket_Client(HOST_ADDR)\n",
        "ws_client.run_forever()\n"
      ]
    },
    {
      "cell_type": "markdown",
      "metadata": {
        "collapsed": true,
        "jupyter": {
          "outputs_hidden": true
        },
        "id": "P36BCWmvyrSY"
      },
      "source": [
        "### より強いAIを作るには\n",
        "\n",
        "移動ゲームと違って、コネクトフォーのAIでは考えることがたくさんあります。\n",
        "\n",
        "* 報酬は？\n",
        "\n",
        "上のサンプルでは、勝った場合・負けた場合のみ報酬を与えましたが、最終結果だけを見るのではなく、例えばリーチになった場合や、相手のリーチを阻止した・見逃した場合など、いろいろなパターンで報酬を与えるべきです。\\\n",
        "どのパターンでどれだけの報酬を与えるのがいいか、いろいろ試してみましょう。\n",
        "\n",
        "* 学習回数は？\n",
        "\n",
        "手っ取り早く強いAIにするために、学習回数を多くしたいところですが、例えば100万回、1000万回で試してみると、過学習というものが具体的にどんな現象かわかりやすいと思います。\\\n",
        "(Google Colabで動かない場合は、ローカルPCなどで試してみましょう) \\\n",
        "対戦形式のAIでは、過学習による悪影響がわかりやすく出やすいので、どうすればそれを防げるか（学習パターンの改善）考えてみましょう\n",
        "\n",
        "* アルゴリズムやパラメータは？\n",
        "\n",
        "移動ゲームの説明であったように、報酬の計算方法に合わせてパラメータを変更してみましょう。\\\n",
        "また、今回使用した PPO2 / MlpPolicy は汎用性が高いので、とりあえずで使うのにはちょうどいいですが、複雑なパターンのばあいはACKTR を使ってみたり\\\n",
        "あるいは機械学習ではなく [模倣学習(GAIL)](https://note.com/npaka/n/n2289ad7f4a3e) を使ってみるのも面白いかもしれません。\n"
      ]
    }
  ],
  "metadata": {
    "colab": {
      "provenance": [],
      "collapsed_sections": [
        "A-1Be_bkrYOi"
      ],
      "toc_visible": true,
      "include_colab_link": true
    },
    "kernelspec": {
      "display_name": "Python 3.7.9 64-bit (system)",
      "language": "python",
      "name": "python3"
    },
    "language_info": {
      "codemirror_mode": {
        "name": "ipython",
        "version": 3
      },
      "file_extension": ".py",
      "mimetype": "text/x-python",
      "name": "python",
      "nbconvert_exporter": "python",
      "pygments_lexer": "ipython3",
      "version": "3.7.9"
    },
    "vscode": {
      "interpreter": {
        "hash": "ecf089708d010a6d266613a2c577b66c9875854ea8788c7d19d60d14e80f5462"
      }
    }
  },
  "nbformat": 4,
  "nbformat_minor": 0
}