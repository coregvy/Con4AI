{
  "nbformat": 4,
  "nbformat_minor": 0,
  "metadata": {
    "colab": {
      "provenance": [],
      "authorship_tag": "ABX9TyMoarXJuWXO6SMDOuzgkqcN",
      "include_colab_link": true
    },
    "kernelspec": {
      "name": "python3",
      "display_name": "Python 3"
    },
    "language_info": {
      "name": "python"
    }
  },
  "cells": [
    {
      "cell_type": "markdown",
      "metadata": {
        "id": "view-in-github",
        "colab_type": "text"
      },
      "source": [
        "<a href=\"https://colab.research.google.com/github/coregvy/Con4AI/blob/master/handson1_sb3.ipynb\" target=\"_parent\"><img src=\"https://colab.research.google.com/assets/colab-badge.svg\" alt=\"Open In Colab\"/></a>"
      ]
    },
    {
      "cell_type": "markdown",
      "source": [
        "# コネクトフォー の ゲームAIを作ろう(SB3)\n",
        "\n",
        "Stable Baselines3 を使用したハンズオンです。\n"
      ],
      "metadata": {
        "id": "kvz16pC922yr"
      }
    },
    {
      "cell_type": "markdown",
      "source": [
        "## Install Dependencies and Stable Baselines3 Using Pip\n"
      ],
      "metadata": {
        "id": "hN1oNpuo5EeA"
      }
    },
    {
      "cell_type": "code",
      "execution_count": null,
      "metadata": {
        "id": "MkQ2h8tp2inB"
      },
      "outputs": [],
      "source": [
        "!apt-get update && apt-get install -y -q ffmpeg freeglut3-dev xvfb  # For visualization\n",
        "!pip install stable-baselines3[extra] --quiet\n",
        "!pip install pyglet==1.4 --quiet\n"
      ]
    },
    {
      "cell_type": "markdown",
      "source": [
        "## Imports"
      ],
      "metadata": {
        "id": "EGDOMQfr21uk"
      }
    },
    {
      "cell_type": "code",
      "source": [
        "import gym\n",
        "import numpy as np\n",
        "from stable_baselines3 import PPO\n",
        "from stable_baselines3.ppo.policies import MlpPolicy\n",
        "import random\n",
        "import re\n"
      ],
      "metadata": {
        "id": "qabaeQuc5hFk"
      },
      "execution_count": null,
      "outputs": []
    },
    {
      "cell_type": "markdown",
      "source": [],
      "metadata": {
        "id": "OzfFtsvm5-kV"
      }
    },
    {
      "cell_type": "code",
      "source": [
        "class Dist(gym.Env):\n",
        "  MAX_X = 7\n",
        "  MAX_Y = 7\n",
        "  ACTION_TOP = 0\n",
        "  ACTION_RIGHT = 1\n",
        "  ACTION_BOTTOM = 2\n",
        "  ACTION_LEFT = 3\n",
        "  PRE = [0,0,0]\n",
        "  ACTION_MARK = ['↑','→','↓','←']\n",
        "  POS_MY = [0,0]\n",
        "  POS_GOAL = [MAX_X, MAX_Y]\n",
        "\n",
        "  def __init__(self) -> None:\n",
        "    super(Dist, self).__init__()\n",
        "    self.initState()\n",
        "    self.action_space = gym.spaces.Discrete(4)\n",
        "    self.observation_space = gym.spaces.Box(low=0, high=self.MAX_X * self.MAX_Y - 1, shape=(5,), dtype = np.uint8)\n",
        "\n",
        "  def reset(self):\n",
        "    # 状態を初期化します\n",
        "    self.initState()\n",
        "    return self.state()\n",
        "\n",
        "  def step(self, action):\n",
        "    self.PRE = [self.POS_MY[0], self.POS_MY[1], action]\n",
        "    # 座標移動\n",
        "    if action == self.ACTION_TOP:\n",
        "      self.POS_MY[1] -= 1\n",
        "    elif action == self.ACTION_RIGHT:\n",
        "      self.POS_MY[0] += 1\n",
        "    elif action == self.ACTION_BOTTOM:\n",
        "      self.POS_MY[1] += 1\n",
        "    elif action == self.ACTION_LEFT:\n",
        "      self.POS_MY[0] -= 1\n",
        "    \n",
        "    # ゴールまでの距離を計算\n",
        "    dist = self.distance(self.POS_MY, self.POS_GOAL)\n",
        "    # ゴールしたか、枠外に出た場合は終了\n",
        "    done = (dist == 0) or self.isOver()\n",
        "    reward = 0\n",
        "    if dist == 0:\n",
        "      reward = 1\n",
        "    return self.state(), reward, done, {}\n",
        "\n",
        "  # 現在の盤面の状態をコンソール表示\n",
        "  def render(self, mode='console', close=False):\n",
        "    print(str(self.state()))\n",
        "    for y in range(self.MAX_Y):\n",
        "      print('| ', end='')\n",
        "      for x in range(self.MAX_X):\n",
        "        print(self.renderMark(x, y), end='')\n",
        "      print(' |')\n",
        "\n",
        "  def renderMark(self, x, y):\n",
        "    if (x == self.POS_MY[0]) and (y == self.POS_MY[1]):\n",
        "      return 'P'\n",
        "    elif (x == self.POS_GOAL[0]) and (y == self.POS_GOAL[1]):\n",
        "      return 'G'\n",
        "    elif (x == self.PRE[0]) and (y == self.PRE[1]):\n",
        "      return self.ACTION_MARK[self.PRE[2]]\n",
        "    else:\n",
        "      return '.'\n",
        "  \n",
        "  # ゲームをリセットする(P/G の位置をランダムに配置)\n",
        "  def initState(self):\n",
        "    self.POS_MY = [random.randrange(self.MAX_X - 1), random.randrange(self.MAX_Y - 1)]\n",
        "    self.POS_GOAL = [random.randrange(self.MAX_X - 1), random.randrange(self.MAX_Y - 1)]\n",
        "    # ゴールまで近すぎる場合はやり直し\n",
        "    if self.distance(self.POS_MY, self.POS_GOAL) < 3:\n",
        "      self.initState()\n",
        "\n",
        "  # 枠外に出たかどうかを判定\n",
        "  def isOver(self):\n",
        "    if self.POS_MY[0] < 0 or self.POS_MY[1] < 0 or self.POS_MY[0] >= self.MAX_X or self.POS_MY[1] >= self.MAX_Y:\n",
        "      return True\n",
        "    return False \n",
        "\n",
        "  def state(self):\n",
        "    return [self.POS_MY[0], self.POS_MY[1], self.POS_GOAL[0], self.POS_GOAL[1], self.distance(self.POS_MY, self.POS_GOAL)]\n",
        "\n",
        "  # マンハッタン距離を返す\n",
        "  def distance(self, a, b):\n",
        "    return abs(a[0] - b[0]) + abs(a[1] - b[1])\n"
      ],
      "metadata": {
        "id": "Qvune7ZU5_Dv"
      },
      "execution_count": null,
      "outputs": []
    },
    {
      "cell_type": "markdown",
      "source": [],
      "metadata": {
        "id": "pnxyG0tz6ERT"
      }
    },
    {
      "cell_type": "code",
      "source": [
        "env0 = Dist()\n",
        "\n",
        "# モデルの生成\n",
        "#  verbose：ログの詳細表示(0:ログなし、1:訓練情報を表示、2:TensorFlowログを表示)\n",
        "model0 = PPO(MlpPolicy, env0, verbose=0, tensorboard_log=\"./log/step0\")\n",
        "\n",
        "# モデルの学習回数\n",
        "sample = 10000\n",
        "model0.learn(total_timesteps=sample, tb_log_name=\"first_run\")\n",
        "# モデルをファイル保存\n",
        "model0.save('dist_model_' + str(sample))\n",
        "\n",
        "print('training end')\n"
      ],
      "metadata": {
        "id": "i5d7fADn6Ewq"
      },
      "execution_count": null,
      "outputs": []
    },
    {
      "cell_type": "markdown",
      "source": [],
      "metadata": {
        "id": "_BybsuAp6yxQ"
      }
    },
    {
      "cell_type": "code",
      "source": [
        "%load_ext tensorboard\n",
        "%tensorboard --logdir=./log/"
      ],
      "metadata": {
        "id": "hgsl2d1I6zP4"
      },
      "execution_count": null,
      "outputs": []
    },
    {
      "cell_type": "markdown",
      "source": [],
      "metadata": {
        "id": "zjpFq5LD9hz2"
      }
    },
    {
      "cell_type": "code",
      "source": [
        "# 状態をリセット\n",
        "env0.reset()\n",
        "i = 0\n",
        "while True:\n",
        "  i += 1\n",
        "  # 次のAIの行動を取得する\n",
        "  action, _ = model0.predict(env0.state())\n",
        "  state, reward, done, info = env0.step(action)\n",
        "  # 現在の状態を描画\n",
        "  env0.render()\n",
        "\n",
        "  if done:\n",
        "    print('end: ', i)\n",
        "    break\n",
        "  print('next action:', done, action, reward)\n"
      ],
      "metadata": {
        "id": "jyPur5lt9j6S"
      },
      "execution_count": null,
      "outputs": []
    },
    {
      "cell_type": "markdown",
      "source": [],
      "metadata": {
        "id": "Coyd9L309xr5"
      }
    },
    {
      "cell_type": "markdown",
      "source": [],
      "metadata": {
        "id": "BR61tkAX9yH7"
      }
    },
    {
      "cell_type": "markdown",
      "source": [],
      "metadata": {
        "id": "N_G_t8fn9ymz"
      }
    },
    {
      "cell_type": "markdown",
      "source": [
        "### game_util.py\n",
        "\n",
        "コネクトフォー独自のルールやロジックなど"
      ],
      "metadata": {
        "id": "nCrPK75392dz"
      }
    },
    {
      "cell_type": "code",
      "source": [
        "class GameUtil:\n",
        "  @staticmethod\n",
        "  def stdinToState(stdin, blank='0', my='1', your='2'):\n",
        "    # サーバから受け取る盤面の情報を読み込む\n",
        "    ao = stdin.splitlines()\n",
        "    meta = ao.pop(0).split(' ')\n",
        "    return list(map(lambda x: list(re.sub('[^MB]', 'Y', x.replace('.', 'B').replace(meta[2], 'M')).replace('Y', your).replace('B', blank).replace('M', my)), ao))\n",
        "\n",
        "  def listToState(ao, meta, blank=0, my=1, your=2):\n",
        "    # 一次元配列で受け取った盤面の情報を二次元配列に置き換える\n",
        "    for row in range(int(meta[1])):\n",
        "      for col in range(int(meta[0])):\n",
        "        if ao[row][col] == '.':\n",
        "          ao[row][col] = blank\n",
        "        elif ao[row][col] == meta[2]:\n",
        "          ao[row][col] = my\n",
        "        else:\n",
        "          ao[row][col] = your\n",
        "    return ao\n",
        "\n",
        "  @staticmethod\n",
        "  def resetState(row = 6, col = 7):\n",
        "    return [[0] * col for i in range(row)]\n",
        "\n",
        "  @staticmethod\n",
        "  def fallCoin(state, action, mark=1, blank=0):\n",
        "    \"\"\" Return new state\n",
        "\n",
        "    Args:\n",
        "        state (list[list[str]]): state list\n",
        "        action (number): [colmn number]\n",
        "        mark (str, optional): [description]. Defaults to '1'.\n",
        "        blank (str, optional): [description]. Defaults to '0'.\n",
        "\n",
        "    Returns:\n",
        "        list: new state\n",
        "    \"\"\"\n",
        "    fallNg = True\n",
        "    for ry in range(len(state)):\n",
        "      y = len(state) - ry - 1\n",
        "      if state[y][action] == blank:\n",
        "        state[y][action] = mark\n",
        "        fallNg = False\n",
        "        break\n",
        "    return state, fallNg\n",
        "\n",
        "  @staticmethod\n",
        "  def checkEnd(state, goal=4, blank=0):\n",
        "    \"\"\" Check if the game is finished\n",
        "\n",
        "    Args:\n",
        "        state (list[list[str]]): game state list\n",
        "        goal (int, optional): goal count. Defaults to 4.\n",
        "        blank (str, optional): blank mark. Defaults to '0'.\n",
        "\n",
        "    Returns:\n",
        "        str: Win mark or blank\n",
        "    \"\"\"\n",
        "    # GameUtil.render(state)\n",
        "    # check row(-)\n",
        "    for row in range(len(state)):\n",
        "      for col in range(len(state[row]) - goal + 1):\n",
        "        tmpMark = state[row][col]\n",
        "        if tmpMark == blank:\n",
        "          continue\n",
        "        for p in range(goal - 1):\n",
        "          if tmpMark != state[row][col + p + 1]:\n",
        "            tmpMark = blank\n",
        "            break\n",
        "        \n",
        "        if tmpMark != blank:\n",
        "          return tmpMark\n",
        "\n",
        "    # check col(|)\n",
        "    for col in range(len(state[0])):\n",
        "      for row in range(len(state) - goal + 1):\n",
        "        tmpMark = state[row][col]\n",
        "        if tmpMark == blank:\n",
        "          continue\n",
        "        for p in range(goal - 1):\n",
        "          if tmpMark != state[row + p + 1][col]:\n",
        "            tmpMark = blank\n",
        "            break\n",
        "\n",
        "        if tmpMark != blank:\n",
        "          return tmpMark\n",
        "\n",
        "    # check /\n",
        "    for row in range(goal - 1, len(state)):\n",
        "      for col in range(0, len(state[row]) - goal + 1):\n",
        "        tmp = state[row][col]\n",
        "        if tmp == blank:\n",
        "          continue\n",
        "        for r in range(1, goal):\n",
        "          if tmp != state[row - r][col + r]:\n",
        "            tmp = blank\n",
        "            break\n",
        "        if tmp != blank:\n",
        "          return tmp\n",
        "\n",
        "    # check \\\n",
        "    for row in range(len(state) - goal + 1):\n",
        "      for col in range(len(state[row]) - goal + 1):\n",
        "        tmp = state[row][col]\n",
        "        if tmp == blank:\n",
        "          continue\n",
        "        for r in range(1, goal):\n",
        "          if tmp != state[row + r][col + r]:\n",
        "            tmp = blank\n",
        "            break\n",
        "        if tmp != blank:\n",
        "          return tmp\n",
        "\n",
        "    return blank\n",
        "\n",
        "  @staticmethod\n",
        "  def checkReach(state, mark = 1, goal=4, blank=0):\n",
        "    \"\"\" Check if the game is Reach\n",
        "\n",
        "    Args:\n",
        "        state (list[list[str]]): game state list\n",
        "        goal (int, optional): goal count. Defaults to 4.\n",
        "        blank (str, optional): blank mark. Defaults to '0'.\n",
        "\n",
        "    Returns:\n",
        "        str: Win mark or blank\n",
        "        pos: reach column\n",
        "    \"\"\"\n",
        "    ret = []\n",
        "    for i in range(len(state[0])):\n",
        "      ps, _ = GameUtil.fallCoin(GameUtil.stateCopy(state), i, mark, blank)\n",
        "      ec = GameUtil.checkEnd(ps, goal, blank)\n",
        "      if ec != blank:\n",
        "        ret.append([ec, i])\n",
        "    return ret\n",
        "\n",
        "  @staticmethod\n",
        "  def stateCopy(state):\n",
        "    row = len(state)\n",
        "    col = len(state[0])\n",
        "    ret = [[0] * col for i in range(row)]\n",
        "    for r in range(row):\n",
        "      for c in range(col):\n",
        "        ret[r][c] = state[r][c]\n",
        "    return ret\n",
        "\n",
        "\n",
        "  @staticmethod\n",
        "  def render(state, my = 1, blank = 0):\n",
        "    print('-0-1-2-3-4-5-6-')\n",
        "    for i in range(len(state)):\n",
        "      print(' ', end='')\n",
        "      for j in range(len(state[i])):\n",
        "        mark = '☆'\n",
        "        if state[i][j] == my:\n",
        "          mark = '◆'\n",
        "        elif state[i][j] == blank:\n",
        "          mark = '・'\n",
        "        print(mark, end='')\n",
        "      print()\n",
        "    print('--------------')\n",
        "\n",
        "  @staticmethod\n",
        "  def enemyPlay(state):\n",
        "    # todo\n",
        "    pos = random.randrange(7)\n",
        "    if state[0][pos] == 0:\n",
        "      return pos\n",
        "    else:\n",
        "      return GameUtil.enemyPlay(state)\n"
      ],
      "metadata": {
        "id": "DbSBxMxH926Q"
      },
      "execution_count": null,
      "outputs": []
    },
    {
      "cell_type": "code",
      "source": [
        "# test\n",
        "state = GameUtil.resetState(6, 7)\n",
        "GameUtil.render(state)\n",
        "GameUtil.fallCoin(state, 2)\n",
        "GameUtil.render(state)\n",
        "done = GameUtil.checkEnd(state)\n",
        "print('check: ', done)\n"
      ],
      "metadata": {
        "id": "z3Ys5DjyAIYc"
      },
      "execution_count": null,
      "outputs": []
    },
    {
      "cell_type": "markdown",
      "source": [
        "### environment.py\n",
        "\n",
        "StableBaselines の環境クラス"
      ],
      "metadata": {
        "id": "BTrIqD_EAYCj"
      }
    },
    {
      "cell_type": "code",
      "source": [
        "\n",
        "class Con4(gym.Env):\n",
        "  MY_MARK = 1\n",
        "  BLANK_MARK = 0\n",
        "  MAX_ROW = 6\n",
        "  MAX_COL = 7\n",
        "\n",
        "  def __init__(self):\n",
        "    super(Con4, self).__init__()\n",
        "    self.board = GameUtil.resetState(self.MAX_ROW, self.MAX_COL)\n",
        "    self.action_space = gym.spaces.Discrete(self.MAX_COL)\n",
        "    self.observation_space = gym.spaces.Box(low=0, high=2, shape=(self.MAX_ROW, self.MAX_COL))\n",
        "\n",
        "  def reset(self):\n",
        "    # 状態を初期化します\n",
        "    self.board = GameUtil.resetState(self.MAX_ROW, self.MAX_COL)\n",
        "    return self.board\n",
        "\n",
        "  def step(self, action):\n",
        "    reward = 0\n",
        "    done = False\n",
        "    # アクション実行後の状態を取得する\n",
        "    self.board, stepNg = GameUtil.fallCoin(self.board, action, self.MY_MARK, self.BLANK_MARK)\n",
        "    if stepNg:\n",
        "      # この列にコインをこれ以上落とせなかった\n",
        "      done = True\n",
        "      reward = -10000\n",
        "      return self.board, reward, done, {}\n",
        "    # 相手の行動を追加する\n",
        "    self.board, stepNg = GameUtil.fallCoin(self.board, GameUtil.enemyPlay(self.board), 2, self.BLANK_MARK)\n",
        "    # ゲームが終了したかどうかを確認する\n",
        "    win = GameUtil.checkEnd(self.board)\n",
        "    if win == self.MY_MARK:\n",
        "      # 自分が勝った\n",
        "      done = True\n",
        "      reward = 1.0\n",
        "    elif win != self.BLANK_MARK:\n",
        "      # 相手が勝った\n",
        "      done = True\n",
        "      reward = -1\n",
        "    return self.board, reward, done, {}\n",
        "\n",
        "  def render(self, mode='console', close=False):\n",
        "    GameUtil.render(self.board, self.MY_MARK, self.BLANK_MARK)\n",
        "\n",
        "  def initState(self):\n",
        "    \"\"\" 盤面を初期化する\n",
        "\n",
        "    Returns:\n",
        "        list: 初期化された盤面の2次元配列\n",
        "    \"\"\"\n",
        "    return [[self.BLANK_MARK] * self.MAX_COL for i in range(self.MAX_ROW)]"
      ],
      "metadata": {
        "id": "0FCO6nEl-JUO"
      },
      "execution_count": null,
      "outputs": []
    },
    {
      "cell_type": "markdown",
      "source": [
        "### training\n",
        "\n",
        "指定回数反復学習し、結果をモデルファイルとして保存する"
      ],
      "metadata": {
        "id": "fRpFC07gAbQt"
      }
    },
    {
      "cell_type": "code",
      "source": [
        "#!python3.7\n",
        "env = Con4()\n",
        "\n",
        "# モデルの生成\n",
        "#  verbose：ログの詳細表示(0:ログなし、1:訓練情報を表示、2:TensorFlowログを表示)\n",
        "model = PPO(MlpPolicy, env, verbose=0, tensorboard_log='./log/con4')\n",
        "# model = PPO2(MlpPolicy, env, verbose=0)\n",
        "# モデルの学習\n",
        "sample = 20000\n",
        "model.learn(total_timesteps=sample)\n",
        "# モデルの保存\n",
        "model.save('con4_model_' + str(sample))\n",
        "\n",
        "print('training end', sample)\n"
      ],
      "metadata": {
        "id": "MG_6nKUz-NJr"
      },
      "execution_count": null,
      "outputs": []
    },
    {
      "cell_type": "markdown",
      "source": [
        "### 学習結果の確認\n",
        "\n",
        "Tensorboard を使用して、学習の様子を確認します。\\\n",
        "パラメータや報酬ロジックを変更した際には違いを確認し、より強いAIになるよう調整しましょう\n"
      ],
      "metadata": {
        "id": "enTs9fYtAgSQ"
      }
    },
    {
      "cell_type": "code",
      "source": [
        "%load_ext tensorboard\n",
        "%tensorboard --logdir=./log/con4"
      ],
      "metadata": {
        "id": "DyZXgrkd-T2M"
      },
      "execution_count": null,
      "outputs": []
    },
    {
      "cell_type": "markdown",
      "source": [
        "### AIのテスト\n",
        "\n",
        "作ったAIが想定通りに動くか、まずはコンソールで試してみましょう"
      ],
      "metadata": {
        "id": "yyO3peO2Am0j"
      }
    },
    {
      "cell_type": "code",
      "source": [
        "state = GameUtil.resetState(6, 7)\n",
        "i = 0\n",
        "\n",
        "while True:\n",
        "  i += 1\n",
        "  action, _ = model.predict(state)\n",
        "  state, done = GameUtil.fallCoin(state, action)\n",
        "  if done:\n",
        "    GameUtil.render(state)\n",
        "    break\n",
        "  done = GameUtil.checkEnd(state)\n",
        "  print('done2:', done)\n",
        "  if done != 0:\n",
        "    print('end: ', i)\n",
        "    break\n",
        "\n",
        "  GameUtil.render(state)\n",
        "  if done != 0:\n",
        "    print('win ai: ', i)\n",
        "    break\n",
        "  print('AI action:', done, action)\n",
        "  action = input('input action > ')\n",
        "  state, done = GameUtil.fallCoin(state, int(action), mark = 2)\n",
        "  if done:\n",
        "    print('failed fall: ', action)\n",
        "    GameUtil.render(state)\n",
        "    break\n",
        "  done = GameUtil.checkEnd(state)\n",
        "  if done != 0:\n",
        "    print('win player: ', i)\n",
        "    break"
      ],
      "metadata": {
        "id": "GYFdCNqt-V1H"
      },
      "execution_count": null,
      "outputs": []
    }
  ]
}